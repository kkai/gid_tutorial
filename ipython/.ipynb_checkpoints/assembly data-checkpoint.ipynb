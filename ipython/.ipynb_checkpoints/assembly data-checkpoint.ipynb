{
 "cells": [
  {
   "cell_type": "markdown",
   "metadata": {},
   "source": [
    "# Motion Data\n",
    "\n",
    "The assembly.dat file contains a recording done from a assembly session.\n",
    "\n",
    "A person was doing the following activities: \n",
    "\n",
    "* hammering in nails (label 1)\n",
    "* screwdring (label 2)\n",
    "* sandpapering (label 3)\n",
    "* sawing (label 4)\n",
    "\n",
    "Label 0 is for doing none of the activities above. The sensor is attached to the subjects right wrist (x axis pointing towards the fingers). \n",
    "The sensor was sampled with 100 Hz, it's raw sensor data (not calibrated). The data structure of the file is shown in the header of the file."
   ]
  },
  {
   "cell_type": "markdown",
   "metadata": {},
   "source": []
  },
  {
   "cell_type": "markdown",
   "metadata": {},
   "source": [
    "## Import the data\n",
    "\n",
    "The file uses tabs as separators and we need to skip 11 rows (the description of the content). \n",
    "Also we need to give the desciription for each column in the names variable."
   ]
  },
  {
   "cell_type": "code",
   "execution_count": 6,
   "metadata": {
    "collapsed": false
   },
   "outputs": [],
   "source": [
    "from pandas import read_csv\n",
    "from mpltools import style\n",
    "from mpltools import layout\n",
    "%matplotlib inline\n",
    "\n",
    "style.use('ggplot')\n",
    "data = read_csv('./data/input/assembly.dat',delimiter='\\t',skiprows=11,names=['s','usec','ax','ay','az','gx','gy','gz','mx','my','mz','label'])"
   ]
  },
  {
   "cell_type": "code",
   "execution_count": null,
   "metadata": {
    "collapsed": false
   },
   "outputs": [],
   "source": [
    "#to get an overview of the data you can use describe in pandas\n",
    "data[['ax','ay','az']].describe()"
   ]
  },
  {
   "cell_type": "code",
   "execution_count": null,
   "metadata": {
    "collapsed": false
   },
   "outputs": [],
   "source": [
    "data[['gx','gy','gz']].plot()"
   ]
  },
  {
   "cell_type": "code",
   "execution_count": null,
   "metadata": {
    "collapsed": false
   },
   "outputs": [],
   "source": [
    "data[['ax','ay','az']].plot()"
   ]
  },
  {
   "cell_type": "markdown",
   "metadata": {},
   "source": [
    "#Feature Caluclation and Selection\n",
    "In the next step we will take the gyro data and calculate some features on the them."
   ]
  },
  {
   "cell_type": "code",
   "execution_count": 4,
   "metadata": {
    "collapsed": false
   },
   "outputs": [],
   "source": [
    "gyro_hammer = data[data['label']==1][['gx','gy','gz']]\n",
    "gyro_screw = data[data['label']==2][['gx','gy','gz']]\n",
    "gyro_sand = data[data['label']==3][['gx','gy','gz']]\n",
    "gyro_saw = data[data['label']==4][['gx','gy','gz']]"
   ]
  },
  {
   "cell_type": "code",
   "execution_count": null,
   "metadata": {
    "collapsed": false
   },
   "outputs": [],
   "source": [
    "gyro_hammer.plot()\n",
    "gyro_screw.plot()\n",
    "gyro_sand.plot()\n",
    "gyro_saw.plot()"
   ]
  },
  {
   "cell_type": "code",
   "execution_count": 7,
   "metadata": {
    "collapsed": false
   },
   "outputs": [
    {
     "name": "stdout",
     "output_type": "stream",
     "text": [
      "291.0\n"
     ]
    }
   ],
   "source": [
    "from pandas.stats.moments import rolling_apply\n",
    "print size(gyro_screw)/20.0\n",
    "\n",
    "method = median\n",
    "wsize = 25\n",
    "\n",
    "feat1 = rolling_apply(gyro_screw, wsize, method).dropna()\n",
    "feat2 = rolling_apply(gyro_hammer,wsize, method).dropna()\n",
    "feat3 = rolling_apply(gyro_sand, wsize, method).dropna()\n",
    "feat4 = rolling_apply(gyro_saw, wsize, method).dropna()\n",
    "\n",
    "\n"
   ]
  },
  {
   "cell_type": "code",
   "execution_count": 12,
   "metadata": {
    "collapsed": false
   },
   "outputs": [],
   "source": [
    "scatter(feat1['gz'], feat1['gy'])\n",
    "scatter(feat2['gz'], feat2['gy'],color='red')\n",
    "scatter(feat3['gz'], feat3['gy'],color='green')\n",
    "scatter(feat4['gz'], feat4['gy'],color='yellow')"
   ]
  },
  {
   "cell_type": "markdown",
   "metadata": {},
   "source": [
    "#Classification\n",
    "In the following we will try how good our features are to automatically classify the different activities."
   ]
  },
  {
   "cell_type": "code",
   "execution_count": 9,
   "metadata": {
    "collapsed": false
   },
   "outputs": [],
   "source": [
    "#don't look here ... I split the data in test and training set\n",
    "#bad code :)\n",
    "\n",
    "l_1 = len(feat1)\n",
    "l_2 = len(feat2)\n",
    "l_3 = len(feat3)\n",
    "l_4 = len(feat4)\n",
    "\n",
    "#X = feat1.append(feat2).append(feat3).append(feat4)\n",
    "#Y = [1.0] * l_1 + [2.0]* l_2 + [3] * l_3 + [4] * l_4\n",
    "\n",
    "X = feat1[0:l_1/2].append(feat2[0:l_2/2]).append(feat3[0:l_3/2]).append(feat4[0:l_4/2])\n",
    "Y = [1]*(l_1/2) + [2]*(l_2/2)+[3]*(l_3/2) + [4]*(l_4/2)\n",
    "\n",
    "T = feat1[l_1/2:l_1].append(feat2[l_2/2:l_2]).append(feat3[l_3/2:l_3]).append(feat4[l_4/2:l_4])\n",
    "t_gg = [1]*len(feat1[l_1/2:l_1]) + [2]*len(feat2[l_2/2:l_2]) + [3]*len(feat3[l_3/2:l_3]) + [4]*len(feat1[l_4/2:l_4])"
   ]
  },
  {
   "cell_type": "code",
   "execution_count": 12,
   "metadata": {
    "collapsed": false
   },
   "outputs": [],
   "source": [
    "from sklearn.neighbors import KNeighborsClassifier\n",
    "from sklearn.tree import DecisionTreeClassifier\n",
    "\n",
    "neigh = KNeighborsClassifier(n_neighbors=3)\n",
    "dt = DecisionTreeClassifier()\n",
    "\n",
    "dt.fit(X,Y)\n",
    "res = dt.predict(T)\n",
    "plot(res+0.2, 'r.')\n",
    "plot(t_gg, 'b.')\n",
    "\n",
    "\n",
    "print dt.score(T, t_gg)\n"
   ]
  },
  {
   "cell_type": "code",
   "execution_count": 11,
   "metadata": {
    "collapsed": false
   },
   "outputs": [
    {
     "name": "stdout",
     "output_type": "stream",
     "text": [
      "[ 0.97058824  0.97385621  0.96721311  0.99013158  0.98026316  0.96710526\n",
      "  0.97697368  0.98684211  0.98013245  0.96688742]\n"
     ]
    }
   ],
   "source": [
    "from sklearn.utils import shuffle\n",
    "from sklearn.cross_validation import StratifiedKFold, cross_val_score\n",
    "\n",
    "Xn, yn = shuffle(T, t_gg)\n",
    "skf = StratifiedKFold(yn, 10)\n",
    "print cross_val_score(dt, Xn, yn, cv=skf)"
   ]
  },
  {
   "cell_type": "code",
   "execution_count": 12,
   "metadata": {
    "collapsed": false
   },
   "outputs": [
    {
     "ename": "AttributeError",
     "evalue": "'NoneType' object has no attribute 'close'",
     "output_type": "error",
     "traceback": [
      "\u001b[0;31m---------------------------------------------------------------------------\u001b[0m\n\u001b[0;31mAttributeError\u001b[0m                            Traceback (most recent call last)",
      "\u001b[0;32m<ipython-input-12-2963299e9172>\u001b[0m in \u001b[0;36m<module>\u001b[0;34m()\u001b[0m\n\u001b[1;32m      2\u001b[0m \u001b[0;32mfrom\u001b[0m \u001b[0msklearn\u001b[0m \u001b[0;32mimport\u001b[0m \u001b[0mtree\u001b[0m\u001b[0;34m\u001b[0m\u001b[0m\n\u001b[1;32m      3\u001b[0m \u001b[0mf\u001b[0m \u001b[0;34m=\u001b[0m\u001b[0mtree\u001b[0m\u001b[0;34m.\u001b[0m\u001b[0mexport_graphviz\u001b[0m\u001b[0;34m(\u001b[0m\u001b[0mdt\u001b[0m\u001b[0;34m,\u001b[0m \u001b[0mout_file\u001b[0m\u001b[0;34m=\u001b[0m\u001b[0;34m'tree.dot'\u001b[0m\u001b[0;34m)\u001b[0m\u001b[0;34m\u001b[0m\u001b[0m\n\u001b[0;32m----> 4\u001b[0;31m \u001b[0mf\u001b[0m\u001b[0;34m.\u001b[0m\u001b[0mclose\u001b[0m\u001b[0;34m(\u001b[0m\u001b[0;34m)\u001b[0m\u001b[0;34m\u001b[0m\u001b[0m\n\u001b[0m",
      "\u001b[0;31mAttributeError\u001b[0m: 'NoneType' object has no attribute 'close'"
     ]
    }
   ],
   "source": []
  },
  {
   "cell_type": "code",
   "execution_count": null,
   "metadata": {
    "collapsed": false
   },
   "outputs": [],
   "source": []
  }
 ],
 "metadata": {
  "kernelspec": {
   "display_name": "Python 2",
   "language": "python",
   "name": "python2"
  },
  "language_info": {
   "codemirror_mode": {
    "name": "ipython",
    "version": 2
   },
   "file_extension": ".py",
   "mimetype": "text/x-python",
   "name": "python",
   "nbconvert_exporter": "python",
   "pygments_lexer": "ipython2",
   "version": "2.7.10"
  }
 },
 "nbformat": 4,
 "nbformat_minor": 0
}
